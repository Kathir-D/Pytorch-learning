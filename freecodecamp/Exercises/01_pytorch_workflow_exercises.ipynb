{
 "cells": [
  {
   "cell_type": "markdown",
   "metadata": {
    "colab_type": "text",
    "id": "view-in-github"
   },
   "source": [
    "<a href=\"https://colab.research.google.com/github/mrdbourke/pytorch-deep-learning/blob/main/extras/exercises/01_pytorch_workflow_exercises.ipynb\" target=\"_parent\"><img src=\"https://colab.research.google.com/assets/colab-badge.svg\" alt=\"Open In Colab\"/></a>"
   ]
  },
  {
   "cell_type": "markdown",
   "metadata": {
    "id": "N8LsPXZti9Sw"
   },
   "source": [
    "# 01. PyTorch Workflow Exercise Template\n",
    "\n",
    "The following is a template for the PyTorch workflow exercises.\n",
    "\n",
    "It's only starter code and it's your job to fill in the blanks.\n",
    "\n",
    "Because of the flexibility of PyTorch, there may be more than one way to answer the question.\n",
    "\n",
    "Don't worry about trying to be *right* just try writing code that suffices the question.\n",
    "\n",
    "You can see one form of [solutions on GitHub](https://github.com/mrdbourke/pytorch-deep-learning/tree/main/extras/solutions) (but try the exercises below yourself first!)."
   ]
  },
  {
   "cell_type": "code",
   "execution_count": 1,
   "metadata": {
    "id": "Glu2fM4dkNlx"
   },
   "outputs": [
    {
     "name": "stdout",
     "output_type": "stream",
     "text": [
      "2.5.1\n"
     ]
    }
   ],
   "source": [
    "import torch\n",
    "from torch import nn\n",
    "from pathlib import Path\n",
    "import pandas as pd\n",
    "import numpy as np\n",
    "import matplotlib.pyplot as plt\n",
    "from pprint import pprint\n",
    "print(torch.__version__)"
   ]
  },
  {
   "cell_type": "code",
   "execution_count": 2,
   "metadata": {
    "id": "LqKhXY26m31s"
   },
   "outputs": [
    {
     "data": {
      "text/plain": [
       "'mps'"
      ]
     },
     "execution_count": 2,
     "metadata": {},
     "output_type": "execute_result"
    }
   ],
   "source": [
    "# Setup device-agnostic code\n",
    "device = \"mps\" if torch.backends.mps.is_available() else \"cpu\"\n",
    "device"
   ]
  },
  {
   "cell_type": "markdown",
   "metadata": {
    "id": "g7HUhxCxjeBx"
   },
   "source": [
    "## 1. Create a straight line dataset using the linear regression formula (`weight * X + bias`).\n",
    "  * Set `weight=0.3` and `bias=0.9` there should be at least 100 datapoints total. \n",
    "  * Split the data into 80% training, 20% testing.\n",
    "  * Plot the training and testing data so it becomes visual.\n",
    "\n",
    "Your output of the below cell should look something like:\n",
    "```\n",
    "Number of X samples: 100\n",
    "Number of y samples: 100\n",
    "First 10 X & y samples:\n",
    "X: tensor([0.0000, 0.0100, 0.0200, 0.0300, 0.0400, 0.0500, 0.0600, 0.0700, 0.0800,\n",
    "        0.0900])\n",
    "y: tensor([0.9000, 0.9030, 0.9060, 0.9090, 0.9120, 0.9150, 0.9180, 0.9210, 0.9240,\n",
    "        0.9270])\n",
    "```\n",
    "\n",
    "Of course the numbers in `X` and `y` may be different but ideally they're created using the linear regression formula."
   ]
  },
  {
   "cell_type": "code",
   "execution_count": 3,
   "metadata": {
    "id": "KbDG5MV7jhvE"
   },
   "outputs": [
    {
     "name": "stdout",
     "output_type": "stream",
     "text": [
      "Number of X samples: 100\n",
      "Number of y samples: 100\n",
      "First 10 X & y samples:\n",
      "X: tensor([[0.0000],\n",
      "        [0.0100],\n",
      "        [0.0200],\n",
      "        [0.0300],\n",
      "        [0.0400],\n",
      "        [0.0500],\n",
      "        [0.0600],\n",
      "        [0.0700],\n",
      "        [0.0800],\n",
      "        [0.0900]])\n",
      "y: tensor([[0.9000],\n",
      "        [0.9030],\n",
      "        [0.9060],\n",
      "        [0.9090],\n",
      "        [0.9120],\n",
      "        [0.9150],\n",
      "        [0.9180],\n",
      "        [0.9210],\n",
      "        [0.9240],\n",
      "        [0.9270]])\n"
     ]
    }
   ],
   "source": [
    "# Create the data parameters\n",
    "weight = 0.3\n",
    "bias = 0.9\n",
    "\n",
    "# Create the data\n",
    "start = 0\n",
    "end = 1\n",
    "step = 0.01\n",
    "startY = 0.9\n",
    "endY = 1.2\n",
    "stepY = 0.003\n",
    "\n",
    "X = torch.arange(start, end, step).unsqueeze(dim = 1) # unsqueeze adds an extra dimension\n",
    "y = torch.arange(startY, endY, stepY).unsqueeze(dim = 1)\n",
    "\n",
    "X[:100], y[:100]\n",
    "\n",
    "\n",
    "# Make X and y using linear regression feature\n",
    "\n",
    "\n",
    "print(f\"Number of X samples: {len(X)}\")\n",
    "print(f\"Number of y samples: {len(y)}\")\n",
    "print(f\"First 10 X & y samples:\\nX: {X[:10]}\\ny: {y[:10]}\")"
   ]
  },
  {
   "cell_type": "code",
   "execution_count": 4,
   "metadata": {
    "id": "GlwtT1djkmLw"
   },
   "outputs": [
    {
     "data": {
      "text/plain": [
       "(80, 80, 20, 20)"
      ]
     },
     "execution_count": 4,
     "metadata": {},
     "output_type": "execute_result"
    }
   ],
   "source": [
    "# Split the data into training and testing\n",
    "\n",
    "train_split = int(0.8 * len(X)) # 80% training, 20% testing\n",
    "\n",
    "X_train, y_train = X[:train_split], y[:train_split]\n",
    "X_test, y_test = X[train_split:], y[train_split:]\n",
    "\n",
    "len(X_train), len(y_train), len(X_test), len(y_test)"
   ]
  },
  {
   "cell_type": "code",
   "execution_count": 5,
   "metadata": {
    "id": "29iQZFNhlYJ-"
   },
   "outputs": [],
   "source": [
    "# Plot the training and testing data\n",
    "def plot_predictions(train_data=X_train,\n",
    "                     train_labels=y_train,\n",
    "                     test_data=X_test,\n",
    "                     test_labels=y_test,\n",
    "                     predictions=None):\n",
    "    \"\"\"\n",
    "    Plots training data, test data, and compares predictions.\n",
    "    \"\"\"\n",
    "\n",
    "    plt.figure(figsize=(5, 5))\n",
    "\n",
    "    # Plot training data in blue\n",
    "    plt.scatter(train_data, train_labels, c=\"b\", s=4, label=\"Training data\")\n",
    "\n",
    "    # Plot test data in green\n",
    "    plt.scatter(test_data, test_labels, c=\"g\", s=4, label=\"Testing data\")\n",
    "\n",
    "    if predictions is not None:\n",
    "        # Plot the predictions in red (predictions were made on the test data)\n",
    "        plt.scatter(test_data, predictions, c=\"r\", s=4, label=\"Predictions\")\n",
    "\n",
    "    # Show the legend\n",
    "    plt.legend(prop={\"size\": 14})\n"
   ]
  },
  {
   "cell_type": "code",
   "execution_count": 6,
   "metadata": {},
   "outputs": [
    {
     "data": {
      "image/png": "[encoded data removed]",
      "text/plain": [
       "<Figure size 500x500 with 1 Axes>"
      ]
     },
     "metadata": {},
     "output_type": "display_data"
    }
   ],
   "source": [
    "plot_predictions()"
   ]
  },
  {
   "cell_type": "markdown",
   "metadata": {
    "id": "ImZoe3v8jif8"
   },
   "source": [
    "## 2. Build a PyTorch model by subclassing `nn.Module`. \n",
    "  * Inside should be a randomly initialized `nn.Parameter()` with `requires_grad=True`, one for `weights` and one for `bias`. \n",
    "  * Implement the `forward()` method to compute the linear regression function you used to create the dataset in 1. \n",
    "  * Once you've constructed the model, make an instance of it and check its `state_dict()`.\n",
    "  * **Note:** If you'd like to use `nn.Linear()` instead of `nn.Parameter()` you can."
   ]
  },
  {
   "cell_type": "code",
   "execution_count": 7,
   "metadata": {
    "id": "qzd__Y5rjtB8"
   },
   "outputs": [
    {
     "data": {
      "text/plain": [
       "(LinearRegression(),\n",
       " OrderedDict([('weights', tensor([0.3367])), ('bias', tensor([0.1288]))]))"
      ]
     },
     "execution_count": 7,
     "metadata": {},
     "output_type": "execute_result"
    }
   ],
   "source": [
    "# Create PyTorch linear regression model by subclassing nn.Module\n",
    "\n",
    "\n",
    "class LinearRegression(nn.Module):\n",
    "    def __init__(self, device=\"cpu\"):\n",
    "        super().__init__()\n",
    "        self.weights = nn.Parameter(torch.randn(1,dtype=torch.float),requires_grad=True)\n",
    "        self.bias = nn.Parameter(torch.randn(1,dtype=torch.float),requires_grad=True)\n",
    "\n",
    "    def forward(self, x: torch.Tensor) -> torch.Tensor: # forward method is used to make predictions\n",
    "        return self.weights * x + self.bias\n",
    "    \n",
    "torch.manual_seed(42)\n",
    "model = LinearRegression()\n",
    "model,model.state_dict()\n",
    "\n",
    "    "
   ]
  },
  {
   "cell_type": "code",
   "execution_count": 8,
   "metadata": {
    "id": "5LdcDnmOmyQ2"
   },
   "outputs": [
    {
     "name": "stdout",
     "output_type": "stream",
     "text": [
      "Model's state dict:\n",
      "OrderedDict({'weights': tensor([0.3367], device='mps:0'), 'bias': tensor([0.1288], device='mps:0')})\n"
     ]
    }
   ],
   "source": [
    "next(model.parameters()).device\n",
    "\n",
    "# Instantiate the model and put it to the target device\n",
    "model.to(device)\n",
    "list(model.parameters())\n",
    "\n",
    "\n",
    "# Check the model's state dictionary\n",
    "print(\"Model's state dict:\")\n",
    "print(model.state_dict())"
   ]
  },
  {
   "cell_type": "markdown",
   "metadata": {
    "id": "G6nYOrJhjtfu"
   },
   "source": [
    "## 3. Create a loss function and optimizer using `nn.L1Loss()` and `torch.optim.SGD(params, lr)` respectively. \n",
    "  * Set the learning rate of the optimizer to be 0.01 and the parameters to optimize should be the model parameters from the model you created in 2.\n",
    "  * Write a training loop to perform the appropriate training steps for 300 epochs.\n",
    "  * The training loop should test the model on the test dataset every 20 epochs."
   ]
  },
  {
   "cell_type": "code",
   "execution_count": 9,
   "metadata": {
    "id": "ltvoZ-FWjv1j"
   },
   "outputs": [],
   "source": [
    "# Create the loss function and optimizer\n",
    "loss_fn = nn.L1Loss() # L1 loss is also known as mean absolute error\n",
    "optimizer = torch.optim.SGD(model.parameters(),\n",
    "                            lr=0.01)"
   ]
  },
  {
   "cell_type": "code",
   "execution_count": null,
   "metadata": {
    "id": "xpE83NvNnkdV"
   },
   "outputs": [
    {
     "name": "stdout",
     "output_type": "stream",
     "text": [
      "Epoch: 0 | Train loss: 0.757 | Test loss: 0.725\n",
      "Epoch: 20 | Train loss: 0.525 | Test loss: 0.454\n",
      "Epoch: 40 | Train loss: 0.294 | Test loss: 0.183\n",
      "Epoch: 60 | Train loss: 0.077 | Test loss: 0.073\n",
      "Epoch: 80 | Train loss: 0.053 | Test loss: 0.116\n",
      "Epoch: 100 | Train loss: 0.046 | Test loss: 0.105\n",
      "Epoch: 120 | Train loss: 0.039 | Test loss: 0.089\n",
      "Epoch: 140 | Train loss: 0.032 | Test loss: 0.074\n",
      "Epoch: 160 | Train loss: 0.025 | Test loss: 0.058\n",
      "Epoch: 180 | Train loss: 0.018 | Test loss: 0.042\n",
      "Epoch: 200 | Train loss: 0.011 | Test loss: 0.026\n",
      "Epoch: 220 | Train loss: 0.004 | Test loss: 0.009\n",
      "Epoch: 240 | Train loss: 0.004 | Test loss: 0.006\n",
      "Epoch: 260 | Train loss: 0.004 | Test loss: 0.006\n",
      "Epoch: 280 | Train loss: 0.004 | Test loss: 0.006\n",
      "Epoch: 300 | Train loss: 0.004 | Test loss: 0.006\n",
      "Epoch: 320 | Train loss: 0.004 | Test loss: 0.006\n",
      "Epoch: 340 | Train loss: 0.004 | Test loss: 0.006\n",
      "Epoch: 360 | Train loss: 0.004 | Test loss: 0.006\n",
      "Epoch: 380 | Train loss: 0.004 | Test loss: 0.006\n",
      "Epoch: 400 | Train loss: 0.004 | Test loss: 0.006\n",
      "Epoch: 420 | Train loss: 0.004 | Test loss: 0.006\n",
      "Epoch: 440 | Train loss: 0.004 | Test loss: 0.006\n",
      "Epoch: 460 | Train loss: 0.004 | Test loss: 0.006\n",
      "Epoch: 480 | Train loss: 0.004 | Test loss: 0.006\n",
      "Epoch: 500 | Train loss: 0.004 | Test loss: 0.006\n",
      "Epoch: 520 | Train loss: 0.004 | Test loss: 0.006\n",
      "Epoch: 540 | Train loss: 0.004 | Test loss: 0.006\n",
      "Epoch: 560 | Train loss: 0.004 | Test loss: 0.006\n",
      "Epoch: 580 | Train loss: 0.004 | Test loss: 0.006\n",
      "Epoch: 600 | Train loss: 0.004 | Test loss: 0.006\n",
      "Epoch: 620 | Train loss: 0.004 | Test loss: 0.006\n",
      "Epoch: 640 | Train loss: 0.004 | Test loss: 0.006\n",
      "Epoch: 660 | Train loss: 0.004 | Test loss: 0.006\n",
      "Epoch: 680 | Train loss: 0.004 | Test loss: 0.006\n",
      "Epoch: 700 | Train loss: 0.004 | Test loss: 0.006\n",
      "Epoch: 720 | Train loss: 0.004 | Test loss: 0.006\n",
      "Epoch: 740 | Train loss: 0.004 | Test loss: 0.006\n",
      "Epoch: 760 | Train loss: 0.004 | Test loss: 0.006\n",
      "Epoch: 780 | Train loss: 0.004 | Test loss: 0.006\n",
      "Epoch: 800 | Train loss: 0.004 | Test loss: 0.006\n",
      "Epoch: 820 | Train loss: 0.004 | Test loss: 0.006\n",
      "Epoch: 840 | Train loss: 0.004 | Test loss: 0.006\n",
      "Epoch: 860 | Train loss: 0.004 | Test loss: 0.006\n",
      "Epoch: 880 | Train loss: 0.004 | Test loss: 0.006\n",
      "Epoch: 900 | Train loss: 0.004 | Test loss: 0.006\n",
      "Epoch: 920 | Train loss: 0.004 | Test loss: 0.006\n",
      "Epoch: 940 | Train loss: 0.004 | Test loss: 0.006\n",
      "Epoch: 960 | Train loss: 0.004 | Test loss: 0.006\n",
      "Epoch: 980 | Train loss: 0.004 | Test loss: 0.006\n",
      "Epoch: 1000 | Train loss: 0.004 | Test loss: 0.006\n",
      "Epoch: 1020 | Train loss: 0.004 | Test loss: 0.006\n",
      "Epoch: 1040 | Train loss: 0.004 | Test loss: 0.006\n",
      "Epoch: 1060 | Train loss: 0.004 | Test loss: 0.006\n",
      "Epoch: 1080 | Train loss: 0.004 | Test loss: 0.006\n",
      "Epoch: 1100 | Train loss: 0.004 | Test loss: 0.006\n",
      "Epoch: 1120 | Train loss: 0.004 | Test loss: 0.006\n",
      "Epoch: 1140 | Train loss: 0.004 | Test loss: 0.006\n",
      "Epoch: 1160 | Train loss: 0.004 | Test loss: 0.006\n",
      "Epoch: 1180 | Train loss: 0.004 | Test loss: 0.006\n",
      "Epoch: 1200 | Train loss: 0.004 | Test loss: 0.006\n",
      "Epoch: 1220 | Train loss: 0.004 | Test loss: 0.006\n",
      "Epoch: 1240 | Train loss: 0.004 | Test loss: 0.006\n",
      "Epoch: 1260 | Train loss: 0.004 | Test loss: 0.006\n",
      "Epoch: 1280 | Train loss: 0.004 | Test loss: 0.006\n",
      "Epoch: 1300 | Train loss: 0.004 | Test loss: 0.006\n",
      "Epoch: 1320 | Train loss: 0.004 | Test loss: 0.006\n",
      "Epoch: 1340 | Train loss: 0.004 | Test loss: 0.006\n",
      "Epoch: 1360 | Train loss: 0.004 | Test loss: 0.006\n",
      "Epoch: 1380 | Train loss: 0.004 | Test loss: 0.006\n",
      "Epoch: 1400 | Train loss: 0.004 | Test loss: 0.006\n",
      "Epoch: 1420 | Train loss: 0.004 | Test loss: 0.006\n",
      "Epoch: 1440 | Train loss: 0.004 | Test loss: 0.006\n",
      "Epoch: 1460 | Train loss: 0.004 | Test loss: 0.006\n",
      "Epoch: 1480 | Train loss: 0.004 | Test loss: 0.006\n",
      "Epoch: 1500 | Train loss: 0.004 | Test loss: 0.006\n",
      "Epoch: 1520 | Train loss: 0.004 | Test loss: 0.006\n",
      "Epoch: 1540 | Train loss: 0.004 | Test loss: 0.006\n",
      "Epoch: 1560 | Train loss: 0.004 | Test loss: 0.006\n",
      "Epoch: 1580 | Train loss: 0.004 | Test loss: 0.006\n",
      "Epoch: 1600 | Train loss: 0.004 | Test loss: 0.006\n",
      "Epoch: 1620 | Train loss: 0.004 | Test loss: 0.006\n",
      "Epoch: 1640 | Train loss: 0.004 | Test loss: 0.006\n",
      "Epoch: 1660 | Train loss: 0.004 | Test loss: 0.006\n",
      "Epoch: 1680 | Train loss: 0.004 | Test loss: 0.006\n",
      "Epoch: 1700 | Train loss: 0.004 | Test loss: 0.006\n",
      "Epoch: 1720 | Train loss: 0.004 | Test loss: 0.006\n",
      "Epoch: 1740 | Train loss: 0.004 | Test loss: 0.006\n",
      "Epoch: 1760 | Train loss: 0.004 | Test loss: 0.006\n",
      "Epoch: 1780 | Train loss: 0.004 | Test loss: 0.006\n",
      "Epoch: 1800 | Train loss: 0.004 | Test loss: 0.006\n",
      "Epoch: 1820 | Train loss: 0.004 | Test loss: 0.006\n",
      "Epoch: 1840 | Train loss: 0.004 | Test loss: 0.006\n",
      "Epoch: 1860 | Train loss: 0.004 | Test loss: 0.006\n",
      "Epoch: 1880 | Train loss: 0.004 | Test loss: 0.006\n",
      "Epoch: 1900 | Train loss: 0.004 | Test loss: 0.006\n",
      "Epoch: 1920 | Train loss: 0.004 | Test loss: 0.006\n",
      "Epoch: 1940 | Train loss: 0.004 | Test loss: 0.006\n",
      "Epoch: 1960 | Train loss: 0.004 | Test loss: 0.006\n",
      "Epoch: 1980 | Train loss: 0.004 | Test loss: 0.006\n",
      "Epoch: 2000 | Train loss: 0.004 | Test loss: 0.006\n",
      "Epoch: 2020 | Train loss: 0.004 | Test loss: 0.006\n",
      "Epoch: 2040 | Train loss: 0.004 | Test loss: 0.006\n",
      "Epoch: 2060 | Train loss: 0.004 | Test loss: 0.006\n",
      "Epoch: 2080 | Train loss: 0.004 | Test loss: 0.006\n",
      "Epoch: 2100 | Train loss: 0.004 | Test loss: 0.006\n",
      "Epoch: 2120 | Train loss: 0.004 | Test loss: 0.006\n",
      "Epoch: 2140 | Train loss: 0.004 | Test loss: 0.006\n",
      "Epoch: 2160 | Train loss: 0.004 | Test loss: 0.006\n",
      "Epoch: 2180 | Train loss: 0.004 | Test loss: 0.006\n",
      "Epoch: 2200 | Train loss: 0.004 | Test loss: 0.006\n",
      "Epoch: 2220 | Train loss: 0.004 | Test loss: 0.006\n",
      "Epoch: 2240 | Train loss: 0.004 | Test loss: 0.006\n",
      "Epoch: 2260 | Train loss: 0.004 | Test loss: 0.006\n",
      "Epoch: 2280 | Train loss: 0.004 | Test loss: 0.006\n",
      "Epoch: 2300 | Train loss: 0.004 | Test loss: 0.006\n",
      "Epoch: 2320 | Train loss: 0.004 | Test loss: 0.006\n",
      "Epoch: 2340 | Train loss: 0.004 | Test loss: 0.006\n",
      "Epoch: 2360 | Train loss: 0.004 | Test loss: 0.006\n",
      "Epoch: 2380 | Train loss: 0.004 | Test loss: 0.006\n",
      "Epoch: 2400 | Train loss: 0.004 | Test loss: 0.006\n",
      "Epoch: 2420 | Train loss: 0.004 | Test loss: 0.006\n",
      "Epoch: 2440 | Train loss: 0.004 | Test loss: 0.006\n",
      "Epoch: 2460 | Train loss: 0.004 | Test loss: 0.006\n",
      "Epoch: 2480 | Train loss: 0.004 | Test loss: 0.006\n",
      "Epoch: 2500 | Train loss: 0.004 | Test loss: 0.006\n",
      "Epoch: 2520 | Train loss: 0.004 | Test loss: 0.006\n",
      "Epoch: 2540 | Train loss: 0.004 | Test loss: 0.006\n",
      "Epoch: 2560 | Train loss: 0.004 | Test loss: 0.006\n",
      "Epoch: 2580 | Train loss: 0.004 | Test loss: 0.006\n",
      "Epoch: 2600 | Train loss: 0.004 | Test loss: 0.006\n",
      "Epoch: 2620 | Train loss: 0.004 | Test loss: 0.006\n",
      "Epoch: 2640 | Train loss: 0.004 | Test loss: 0.006\n",
      "Epoch: 2660 | Train loss: 0.004 | Test loss: 0.006\n",
      "Epoch: 2680 | Train loss: 0.004 | Test loss: 0.006\n",
      "Epoch: 2700 | Train loss: 0.004 | Test loss: 0.006\n",
      "Epoch: 2720 | Train loss: 0.004 | Test loss: 0.006\n",
      "Epoch: 2740 | Train loss: 0.004 | Test loss: 0.006\n",
      "Epoch: 2760 | Train loss: 0.004 | Test loss: 0.006\n",
      "Epoch: 2780 | Train loss: 0.004 | Test loss: 0.006\n",
      "Epoch: 2800 | Train loss: 0.004 | Test loss: 0.006\n",
      "Epoch: 2820 | Train loss: 0.004 | Test loss: 0.006\n",
      "Epoch: 2840 | Train loss: 0.004 | Test loss: 0.006\n",
      "Epoch: 2860 | Train loss: 0.004 | Test loss: 0.006\n",
      "Epoch: 2880 | Train loss: 0.004 | Test loss: 0.006\n",
      "Epoch: 2900 | Train loss: 0.004 | Test loss: 0.006\n",
      "Epoch: 2920 | Train loss: 0.004 | Test loss: 0.006\n",
      "Epoch: 2940 | Train loss: 0.004 | Test loss: 0.006\n",
      "Epoch: 2960 | Train loss: 0.004 | Test loss: 0.006\n",
      "Epoch: 2980 | Train loss: 0.004 | Test loss: 0.006\n"
     ]
    }
   ],
   "source": [
    "# Training loop\n",
    "# Train model for 300 epochs\n",
    "torch.manual_seed(42)\n",
    "\n",
    "epochs = 300\n",
    "\n",
    "# Send data to target device\n",
    "X_train = X_train.to(device)\n",
    "X_test = X_test.to(device)\n",
    "y_train = y_train.to(device)\n",
    "y_test = y_test.to(device)\n",
    "\n",
    "for epoch in range(epochs):\n",
    "  ### Training\n",
    "\n",
    "  # Put model in train mode\n",
    "  model.train()\n",
    "\n",
    "  # 1. Forward pass\n",
    "  y_pred = model(X_train)\n",
    "\n",
    "  # 2. Calculate loss\n",
    "  loss = loss_fn(y_pred,y_train)\n",
    "\n",
    "  # 3. Zero gradients\n",
    "  optimizer.zero_grad()\n",
    "\n",
    "  # 4. Backpropagation\n",
    "  loss.backward()\n",
    "\n",
    "  # 5. Step the optimizer\n",
    "  optimizer.step()\n",
    "\n",
    "  ### Perform testing every 20 epochs\n",
    "  if epoch % 20 == 0:\n",
    "    # Put model in evaluation mode and setup inference context \n",
    "    model.eval()\n",
    "    with torch.inference_mode():\n",
    "      # 1. Forward pass\n",
    "      y_preds = model(X_test)\n",
    "      # 2. Calculate test loss\n",
    "      test_loss = loss_fn(y_preds,y_test)\n",
    "      # Print out what's happening\n",
    "      print(f\"Epoch: {epoch} | Train loss: {loss:.3f} | Test loss: {test_loss:.3f}\")\n"
   ]
  },
  {
   "cell_type": "markdown",
   "metadata": {
    "id": "x4j4TM18jwa7"
   },
   "source": [
    "## 4. Make predictions with the trained model on the test data.\n",
    "  * Visualize these predictions against the original training and testing data (**note:** you may need to make sure the predictions are *not* on the GPU if you want to use non-CUDA-enabled libraries such as matplotlib to plot)."
   ]
  },
  {
   "cell_type": "code",
   "execution_count": 11,
   "metadata": {
    "id": "bbMPK5Qjjyx_"
   },
   "outputs": [
    {
     "data": {
      "text/plain": [
       "tensor([[1.1464],\n",
       "        [1.1495],\n",
       "        [1.1525],\n",
       "        [1.1556],\n",
       "        [1.1587],\n",
       "        [1.1617],\n",
       "        [1.1648],\n",
       "        [1.1679],\n",
       "        [1.1709],\n",
       "        [1.1740],\n",
       "        [1.1771],\n",
       "        [1.1801],\n",
       "        [1.1832],\n",
       "        [1.1863],\n",
       "        [1.1893],\n",
       "        [1.1924],\n",
       "        [1.1955],\n",
       "        [1.1985],\n",
       "        [1.2016],\n",
       "        [1.2047]], device='mps:0')"
      ]
     },
     "execution_count": 11,
     "metadata": {},
     "output_type": "execute_result"
    }
   ],
   "source": [
    "# Make predictions with the model\n",
    "model.eval()\n",
    "\n",
    "with torch.inference_mode():\n",
    "  y_preds = model(X_test)\n",
    "y_preds"
   ]
  },
  {
   "cell_type": "code",
   "execution_count": 12,
   "metadata": {
    "id": "K3BdmQaDpFo8"
   },
   "outputs": [
    {
     "data": {
      "text/plain": [
       "tensor([[1.1464],\n",
       "        [1.1495],\n",
       "        [1.1525],\n",
       "        [1.1556],\n",
       "        [1.1587],\n",
       "        [1.1617],\n",
       "        [1.1648],\n",
       "        [1.1679],\n",
       "        [1.1709],\n",
       "        [1.1740],\n",
       "        [1.1771],\n",
       "        [1.1801],\n",
       "        [1.1832],\n",
       "        [1.1863],\n",
       "        [1.1893],\n",
       "        [1.1924],\n",
       "        [1.1955],\n",
       "        [1.1985],\n",
       "        [1.2016],\n",
       "        [1.2047]])"
      ]
     },
     "execution_count": 12,
     "metadata": {},
     "output_type": "execute_result"
    }
   ],
   "source": [
    "y_preds.cpu()"
   ]
  },
  {
   "cell_type": "code",
   "execution_count": 13,
   "metadata": {},
   "outputs": [
    {
     "data": {
      "image/png": "[encoded data removed]",
      "text/plain": [
       "<Figure size 500x500 with 1 Axes>"
      ]
     },
     "metadata": {},
     "output_type": "display_data"
    }
   ],
   "source": [
    "plot_predictions(predictions = y_preds.cpu())"
   ]
  },
  {
   "cell_type": "markdown",
   "metadata": {
    "id": "s2OnlMWKjzX8"
   },
   "source": [
    "## 5. Save your trained model's `state_dict()` to file.\n",
    "  * Create a new instance of your model class you made in 2. and load in the `state_dict()` you just saved to it.\n",
    "  * Perform predictions on your test data with the loaded model and confirm they match the original model predictions from 4."
   ]
  },
  {
   "cell_type": "code",
   "execution_count": 14,
   "metadata": {
    "id": "hgxhgD14qr-i"
   },
   "outputs": [
    {
     "name": "stdout",
     "output_type": "stream",
     "text": [
      "Saving model to: models/01_pytorch_workflow_exercises.pth\n",
      "-rw-r--r--  1 kathirdev  staff  1692 Dec  9 10:29 models/01_pytorch_workflow_exercises.pth\n"
     ]
    }
   ],
   "source": [
    "# 1. Create models directory \n",
    "MODEL_PATH = Path(\"models\")\n",
    "MODEL_PATH.mkdir(parents=True, exist_ok=True)\n",
    "\n",
    "# 2. Create model save path \n",
    "MODEL_NAME = \"01_pytorch_workflow_exercises.pth\"\n",
    "MODEL_SAVE_PATH = MODEL_PATH / MODEL_NAME\n",
    "\n",
    "# 3. Save the model state dict \n",
    "print(f\"Saving model to: {MODEL_SAVE_PATH}\")\n",
    "torch.save(obj=model.state_dict(), # only saving the state_dict() only saves the models learned parameters\n",
    "            f=MODEL_SAVE_PATH)\n",
    "\n",
    "\n",
    "!ls -l models/01_pytorch_workflow_exercises.pth"
   ]
  },
  {
   "cell_type": "code",
   "execution_count": 15,
   "metadata": {
    "id": "P9vTgiLRrJ7T"
   },
   "outputs": [
    {
     "name": "stderr",
     "output_type": "stream",
     "text": [
      "/var/folders/s4/pwrsjxy97wjg_lr8bkqkqmyw0000gp/T/ipykernel_16537/189060549.py:3: FutureWarning: You are using `torch.load` with `weights_only=False` (the current default value), which uses the default pickle module implicitly. It is possible to construct malicious pickle data which will execute arbitrary code during unpickling (See https://github.com/pytorch/pytorch/blob/main/SECURITY.md#untrusted-models for more details). In a future release, the default value for `weights_only` will be flipped to `True`. This limits the functions that could be executed during unpickling. Arbitrary objects will no longer be allowed to be loaded via this mode unless they are explicitly allowlisted by the user via `torch.serialization.add_safe_globals`. We recommend you start setting `weights_only=True` for any use case where you don't have full control of the loaded file. Please open an issue on GitHub for any issues related to this experimental feature.\n",
      "  loaded_model.load_state_dict(torch.load(f = MODEL_SAVE_PATH))\n"
     ]
    },
    {
     "data": {
      "text/plain": [
       "LinearRegression()"
      ]
     },
     "execution_count": 15,
     "metadata": {},
     "output_type": "execute_result"
    }
   ],
   "source": [
    "# Create new instance of model and load saved state dict (make sure to put it on the target device)\n",
    "loaded_model = LinearRegression()\n",
    "loaded_model.load_state_dict(torch.load(f = MODEL_SAVE_PATH))\n",
    "loaded_model.to(device)\n",
    "     \n"
   ]
  },
  {
   "cell_type": "code",
   "execution_count": 16,
   "metadata": {
    "id": "8UGX3VebrVtI"
   },
   "outputs": [
    {
     "data": {
      "text/plain": [
       "tensor([[True],\n",
       "        [True],\n",
       "        [True],\n",
       "        [True],\n",
       "        [True],\n",
       "        [True],\n",
       "        [True],\n",
       "        [True],\n",
       "        [True],\n",
       "        [True],\n",
       "        [True],\n",
       "        [True],\n",
       "        [True],\n",
       "        [True],\n",
       "        [True],\n",
       "        [True],\n",
       "        [True],\n",
       "        [True],\n",
       "        [True],\n",
       "        [True]], device='mps:0')"
      ]
     },
     "execution_count": 16,
     "metadata": {},
     "output_type": "execute_result"
    }
   ],
   "source": [
    "# Make predictions with loaded model and compare them to the previous\n",
    "y_preds_loaded = loaded_model(X_test)\n",
    "y_preds == y_preds_loaded"
   ]
  },
  {
   "cell_type": "code",
   "execution_count": 17,
   "metadata": {},
   "outputs": [
    {
     "data": {
      "text/plain": [
       "OrderedDict([('weights', tensor([0.3067], device='mps:0')),\n",
       "             ('bias', tensor([0.9011], device='mps:0'))])"
      ]
     },
     "execution_count": 17,
     "metadata": {},
     "output_type": "execute_result"
    }
   ],
   "source": [
    "loaded_model.state_dict()"
   ]
  },
  {
   "cell_type": "code",
   "execution_count": 18,
   "metadata": {},
   "outputs": [
    {
     "name": "stderr",
     "output_type": "stream",
     "text": [
      "/var/folders/s4/pwrsjxy97wjg_lr8bkqkqmyw0000gp/T/ipykernel_16537/4132868312.py:11: FutureWarning: You are using `torch.load` with `weights_only=False` (the current default value), which uses the default pickle module implicitly. It is possible to construct malicious pickle data which will execute arbitrary code during unpickling (See https://github.com/pytorch/pytorch/blob/main/SECURITY.md#untrusted-models for more details). In a future release, the default value for `weights_only` will be flipped to `True`. This limits the functions that could be executed during unpickling. Arbitrary objects will no longer be allowed to be loaded via this mode unless they are explicitly allowlisted by the user via `torch.serialization.add_safe_globals`. We recommend you start setting `weights_only=True` for any use case where you don't have full control of the loaded file. Please open an issue on GitHub for any issues related to this experimental feature.\n",
      "  model_loaded.load_state_dict(torch.load(MODEL_SAVE_PATH))\n"
     ]
    }
   ],
   "source": [
    "# Make predictions with the model\n",
    "model.eval()\n",
    "\n",
    "with torch.inference_mode():\n",
    "    y_preds = model(X_test)\n",
    "    # Move predictions to CPU before converting to numpy\n",
    "    y_preds = y_preds.cpu()\n",
    "\n",
    "# Load the saved model\n",
    "model_loaded = LinearRegression()\n",
    "model_loaded.load_state_dict(torch.load(MODEL_SAVE_PATH))\n",
    "model_loaded.to(device)\n",
    "model_loaded.eval()\n",
    "\n",
    "with torch.inference_mode():\n",
    "    y_preds_loaded = model_loaded(X_test)\n",
    "    # Move predictions to CPU before converting to numpy\n",
    "    y_preds_loaded = y_preds_loaded.cpu()"
   ]
  },
  {
   "cell_type": "code",
   "execution_count": 19,
   "metadata": {},
   "outputs": [
    {
     "data": {
      "image/png": "[encoded data removed]",
      "text/plain": [
       "<Figure size 1200x800 with 1 Axes>"
      ]
     },
     "metadata": {},
     "output_type": "display_data"
    }
   ],
   "source": [
    "# Move all tensors to CPU first\n",
    "train_data_cpu = X_train.cpu()\n",
    "train_labels_cpu = y_train.cpu() \n",
    "test_data_cpu = X_test.cpu()\n",
    "test_labels_cpu = y_test.cpu()\n",
    "y_preds_cpu = y_preds.cpu()\n",
    "y_preds_loaded_cpu = y_preds_loaded.cpu()\n",
    "\n",
    "# Enhanced plotting function\n",
    "def plot_predictions(train_data=train_data_cpu,\n",
    "                    train_labels=train_labels_cpu,\n",
    "                    test_data=test_data_cpu,\n",
    "                    test_labels=test_labels_cpu,\n",
    "                    predictions=y_preds_cpu,\n",
    "                    loaded_model_predictions=y_preds_loaded_cpu):\n",
    "    \"\"\"\n",
    "    Creates enhanced visualization of model predictions.\n",
    "    \"\"\"\n",
    "    plt.figure(figsize=(12, 8))\n",
    "    \n",
    "    # Plot with enhanced styling\n",
    "    plt.scatter(train_data, train_labels, c=\"blue\", s=8, alpha=0.7, label=\"Training data\")\n",
    "    plt.scatter(test_data, test_labels, c=\"green\", s=8, alpha=0.7, label=\"Testing data\")\n",
    "    \n",
    "    # Plot prediction lines\n",
    "    x_line = torch.cat([train_data, test_data]).flatten()\n",
    "    y_line = 0.3 * x_line + 0.9\n",
    "    plt.plot(x_line, y_line, c='gray', label='True Line', alpha=0.5, linestyle='--')\n",
    "    \n",
    "    if predictions is not None:\n",
    "        plt.scatter(test_data, predictions, c=\"red\", s=8, alpha=0.7, label=\"Original Model\")\n",
    "        \n",
    "    if loaded_model_predictions is not None:\n",
    "        plt.scatter(test_data, loaded_model_predictions, c=\"purple\", s=8, alpha=0.7, label=\"Loaded Model\")\n",
    "\n",
    "    # Enhance styling\n",
    "    plt.title(\"Model Predictions vs Actual Data\", fontsize=14, pad=20)\n",
    "    plt.xlabel(\"Input (X)\", fontsize=12)\n",
    "    plt.ylabel(\"Output (y)\", fontsize=12)\n",
    "    plt.legend(fontsize=10, framealpha=0.5)\n",
    "    plt.grid(True, alpha=0.2)\n",
    "    \n",
    "    # Set better figure margins\n",
    "    plt.tight_layout()\n",
    "    plt.show()\n",
    "\n",
    "# Call the enhanced plotting function\n",
    "plot_predictions()"
   ]
  }
 ],
 "metadata": {
  "accelerator": "GPU",
  "colab": {
   "authorship_tag": "ABX9TyNYzatJtFkfUqqdiR6rYwVL",
   "collapsed_sections": [],
   "include_colab_link": true,
   "name": "01_pytorch_workflow_exercises.ipynb",
   "provenance": []
  },
  "kernelspec": {
   "display_name": "base",
   "language": "python",
   "name": "python3"
  },
  "language_info": {
   "codemirror_mode": {
    "name": "ipython",
    "version": 3
   },
   "file_extension": ".py",
   "mimetype": "text/x-python",
   "name": "python",
   "nbconvert_exporter": "python",
   "pygments_lexer": "ipython3",
   "version": "3.12.4"
  }
 },
 "nbformat": 4,
 "nbformat_minor": 0
}
